{
 "cells": [
  {
   "cell_type": "markdown",
   "id": "e78e1157",
   "metadata": {},
   "source": [
    "# 6. Поиск текста"
   ]
  },
  {
   "cell_type": "markdown",
   "id": "e32bdf45",
   "metadata": {},
   "source": [
    "# 6.1 Поиск с помощью LIKE"
   ]
  },
  {
   "cell_type": "markdown",
   "id": "3c5954e0",
   "metadata": {},
   "source": [
    "Выберите из таблицы **users** всех пользователей, чьи фамилии начинаются на А без учета регистра.\n",
    "\n",
    "Отсортируйте данные в алфавитном порядке по фамилии и имени.\n",
    "\n",
    "**Решение:**\n",
    "\n",
    "```MySQL\n",
    "SELECT * FROM users\n",
    "WHERE last_name LIKE \"А%\"\n",
    "ORDER BY last_name, first_name ASC;\n",
    "```"
   ]
  },
  {
   "cell_type": "markdown",
   "id": "b55691b5",
   "metadata": {},
   "source": [
    "Выберите из таблицы **domains** имена всех доменов в зоне .ru и отсортируйте их по дате создания.\n",
    "\n",
    "Выводить нужно только имена доменов.\n",
    "\n",
    "**Решение:**\n",
    "\n",
    "```MySQL\n",
    "SELECT domain FROM domains\n",
    "WHERE domain LIKE '%.ru'\n",
    "ORDER BY created ASC;\n",
    "```"
   ]
  },
  {
   "cell_type": "markdown",
   "id": "9a00feda",
   "metadata": {},
   "source": [
    "Выберите из таблицы **domains** имена всех доменов, у которых домен первого уровня состоит из 3 символов.\n",
    "\n",
    "Отсортируйте данные по имени домена в алфавитном порядке.\n",
    "\n",
    "В итоговой таблице должен остаться только столбец domain.\n",
    "\n",
    "**Решение:**\n",
    "\n",
    "```MySQL\n",
    "SELECT domain FROM domains\n",
    "WHERE domain LIKE '%.___'\n",
    "ORDER BY domain ASC;\n",
    "```"
   ]
  },
  {
   "cell_type": "markdown",
   "id": "3e1566d0",
   "metadata": {},
   "source": [
    "Один из участников ДТП скрылся с места аварии.\n",
    "\n",
    "Однако прохожие успели заметить часть номера автомобиля нарушителя.\n",
    "\n",
    "В частности они запомнили, что серия заканчивается на ОР (русскими буквами), а регистрационный номер начинается с единицы. Также они запомнили марку автомобиля — Ford, и его цвет — желтый или зеленый (мнения разделились, так как на улице было уже темно).\n",
    "\n",
    "Получите из таблицы **cars** все автомобили, которые подходят под описание.\n",
    "\n",
    "**Решение:**\n",
    "\n",
    "```MySQL\n",
    "SELECT * FROM cars\n",
    "WHERE number LIKE '_1__ОР%' AND mark = 'Ford' AND (color = 'желтый' OR color = 'зеленый');\n",
    "```"
   ]
  },
  {
   "cell_type": "markdown",
   "id": "037df571",
   "metadata": {},
   "source": [
    "В таблице **wines** содержится список вин с ценами. Отдел маркетинга посчитал, что цены, которые заканчиваются на два нуля, следует уменьшить на 1 рубль, чтобы в конце было 99 (400 -> 399).\n",
    "\n",
    "Так цена будет казаться меньше. Напишите SQL запрос для решения этой задачи.\n",
    "\n",
    "**Решение:**\n",
    "\n",
    "```MySQL\n",
    "UPDATE wines\n",
    "SET price = price - 1 WHERE price LIKE '%00';\n",
    "```\n",
    "\n",
    "```MySQL\n",
    "UPDATE wines\n",
    "SET price = price - 1  WHERE price % 100 = 0;\n",
    "```"
   ]
  },
  {
   "cell_type": "markdown",
   "id": "ef79f8c4",
   "metadata": {},
   "source": [
    "Правильное название марки автомобилей — **BMW** (все буквы заглавные).\n",
    "\n",
    "Однако в таблице много автомобилей BMW, которые записаны неверно.\n",
    "Найдите все автомобили с неверным названием.\n",
    "\n",
    "**Решение:**\n",
    "\n",
    "```MySQL\n",
    "SELECT * FROM cars\n",
    "WHERE mark LIKE 'BMW' AND mark NOT LIKE BINARY 'BMW';\n",
    "```"
   ]
  },
  {
   "cell_type": "markdown",
   "id": "1b12d6f6",
   "metadata": {},
   "source": [
    "# 6.2 Полнотекстовый поиск"
   ]
  },
  {
   "cell_type": "markdown",
   "id": "ef23e107",
   "metadata": {},
   "source": [
    "```MySQL\n",
    "CREATE FULLTEXT INDEX ind_name ON products(name);\n",
    "```"
   ]
  },
  {
   "cell_type": "markdown",
   "id": "230047f8",
   "metadata": {},
   "source": [
    "В таблице **products** содержатся товары из женского магазина. Пользователь ищет джинсы фирмы Mango 36 или 38 размера. Получите из таблицы id, название и цену всех подходящих товаров. Учитывайте, что некоторых позиций на складе нет.\n",
    "\n",
    "Таблица была создана с помощью следующего запроса:\n",
    "\n",
    "```MySQL\n",
    "CREATE TABLE products (\n",
    "    id INT UNSIGNED NOT NULL PRIMARY KEY AUTO_INCREMENT,\n",
    "    name VARCHAR(100) NOT NULL,\n",
    "    count SMALLINT UNSIGNED NOT NULL DEFAULT 0,\n",
    "    price INTEGER UNSIGNED NOT NULL DEFAULT 0,\n",
    "    sizes SET('32','34','36','38','40','42','44','46','48','50','52','M','L','S','XL','XS','2XL','4XL') NULL,\n",
    "    FULLTEXT INDEX name(name)\n",
    ");\n",
    "```\n",
    "\n",
    "**Решение:**\n",
    "\n",
    "```MySQL\n",
    "SELECT id, name, price FROM products\n",
    "WHERE MATCH (name) AGAINST ('+Джинсы +Mango' IN BOOLEAN MODE)\n",
    "AND (FIND_IN_SET (36, sizes) OR FIND_IN_SET (38, sizes))\n",
    "AND count > 0;\n",
    "```\n",
    "\n",
    "```MySQL\n",
    "SELECT id, name, price FROM products\n",
    "WHERE MATCH (name) AGAINST ('+Джинсы +Mango' IN BOOLEAN MODE)\n",
    "AND (sizes LIKE '%36%' OR sizes like '%38%')\n",
    "AND count > 0;\n",
    "```"
   ]
  },
  {
   "cell_type": "markdown",
   "id": "2a2d2e00",
   "metadata": {},
   "source": [
    "Полнотекстовые индексы можно создавать сразу по нескольким столбцам.\n",
    "Для этого нужно указать все колонки в скобках через запятую.\n",
    "Например так можно создать индекс search по названию и описанию:\n",
    "\n",
    "```MySQL\n",
    "CREATE FULLTEXT INDEX search ON products(name, description);\n",
    "```\n",
    "\n",
    "Так как индекс создается по нескольким столбцам, то при поиске в конструкции MATCH надо перечислить их все:\n",
    "\n",
    "```MySQL\n",
    "SELECT * FROM products \n",
    "WHERE MATCH(name, description) AGAINST ('платье детское');\n",
    "```\n",
    "Найдите в таблице **forum** все посты, которые содержат слова «ошибка» или «проблема».\n",
    "\n",
    "Выведите только id и название поста.\n",
    "\n",
    "Таблица была создана с помощью следующего запроса:\n",
    "\n",
    "```MySQL\n",
    "CREATE TABLE forum (\n",
    "    id INT UNSIGNED NOT NULL PRIMARY KEY AUTO_INCREMENT,\n",
    "    subject VARCHAR(255) NULL,\n",
    "    author_id INTEGER NULL,\n",
    "    post TEXT NULL,\n",
    "    FULLTEXT INDEX forum_text(subject, post)\n",
    "    );\n",
    "```\n",
    "**Решение:**\n",
    "\n",
    "```MySQL\n",
    "SELECT id, subject FROM forum\n",
    "WHERE MATCH (subject, post) AGAINST ('ошибка проблема');\n",
    "```"
   ]
  },
  {
   "cell_type": "markdown",
   "id": "5539d8a0",
   "metadata": {},
   "source": [
    "В предыдущей задаче мы искали слова «ошибка» или «проблема», однако в текстах эти слова склоняются и мы пропустили «ошибки», «ошибками», «проблемы» и тд.\n",
    "\n",
    "И хотя полнотекстовый поиск в MySQL не является морфологическим (не учитывает склонения), мы всё же можем обработать и такие ситуации. В логическом режиме в конце слов вместо окончаний можно добавлять звездочку, тогда поиск будет учитывать все варианты написания.\n",
    "Например, «товар*» будет равносилен словам «товар», «товары», «товарами» и тд.\n",
    "\n",
    "Измените ваш предыдущий запрос так, чтобы он искал ошибки и проблемы с любыми окончаниями.\n",
    "Структура и данные в таблице остались такими же.\n",
    "\n",
    "**Решение:**\n",
    "\n",
    "```MySQL\n",
    "SELECT id, subject FROM forum\n",
    "WHERE MATCH (subject, post) AGAINST ('ошибк* проблем*' IN BOOLEAN MODE);\n",
    "```"
   ]
  },
  {
   "cell_type": "markdown",
   "id": "70bc9e67",
   "metadata": {},
   "source": [
    "Получите из таблицы **products** все джинсы и жилеты, за исключеним товаров фирмы Mango.\n",
    "\n",
    "Таблица была создана с помощью следующего запроса:\n",
    "\n",
    "```MySQL\n",
    "CREATE TABLE products (\n",
    "    id INT UNSIGNED NOT NULL PRIMARY KEY AUTO_INCREMENT,\n",
    "    name VARCHAR(100) NOT NULL,\n",
    "    count SMALLINT UNSIGNED NOT NULL DEFAULT 0,\n",
    "    price INTEGER UNSIGNED NOT NULL DEFAULT 0,\n",
    "    sizes SET('32','34','36','38','40','42','44','46','48','50','52','M','L','S','XL','XS','2XL','4XL') NULL,\n",
    "    FULLTEXT INDEX name(name)\n",
    ");\n",
    "```\n",
    "**Решение:**\n",
    "\n",
    "```MySQL\n",
    "SELECT * FROM products\n",
    "WHERE MATCH (name) AGAINST ('джинсы жилет -Mango' IN BOOLEAN MODE);\n",
    "```"
   ]
  },
  {
   "cell_type": "markdown",
   "id": "bcbf7982",
   "metadata": {},
   "source": [
    "Как вы знаете, полнотекстовый поиск ищет слова по отдельности. Но иногда нужно найти фразу целиком, например если это название книги или вы точно знаете что ищете. Для это достаточно заключить фразу в двойные кавычки:\n",
    "\n",
    "```MySQL\n",
    "SELECT * FROM films \n",
    "WHERE MATCH(name) AGAINST ('\"Кремниевая долина\"' IN BOOLEAN MODE);\n",
    "```\n",
    "\n",
    "Найдите в таблице **products** все товары, которые содержат фразу «Джинсы Mango».\n",
    "Данные отсортируйте по цене (по умолчанию данные сортируются по релевантности, но мы можем изменить это поведение).\n",
    "Выведите только id, название и цену.\n",
    "\n",
    "Таблица была создана с помощью следующего запроса:\n",
    "\n",
    "```MySQL\n",
    "CREATE TABLE products (\n",
    "    id INT UNSIGNED NOT NULL PRIMARY KEY AUTO_INCREMENT,\n",
    "    name VARCHAR(100) NOT NULL,\n",
    "    count SMALLINT UNSIGNED NOT NULL DEFAULT 0,\n",
    "    price INTEGER UNSIGNED NOT NULL DEFAULT 0,\n",
    "    sizes SET('32','34','36','38','40','42','44','46','48','50','52','M','L','S','XL','XS','2XL','4XL') NULL,\n",
    "    FULLTEXT INDEX name(name)\n",
    ");\n",
    "```\n",
    "\n",
    "**Решение:**\n",
    "\n",
    "```MySQL\n",
    "SELECT id, name, price FROM products\n",
    "WHERE MATCH (name) AGAINST ('\"Джинсы Mango\"' IN BOOLEAN MODE)\n",
    "ORDER BY price;\n",
    "```"
   ]
  },
  {
   "cell_type": "markdown",
   "id": "6f914201",
   "metadata": {},
   "source": [
    "Иногда даже сложные выражения внутри AGAINST не позволяют найти нужные записи. Однако вы можете добавить несколько конструкций MATCH...AGAINST в один запрос, разделив их операторами AND или OR:\n",
    "\n",
    "```MySQL\n",
    "SELECT * FROM films WHERE\n",
    "MATCH (name) AGAINST ('+Кремниевая +долина' IN BOOLEAN MODE) OR\n",
    "MATCH (name) AGAINST ('+Силиконовая +долина' IN BOOLEAN MODE);\n",
    "```\n",
    "\n",
    "Получите из таблицы **products** все джинсы и юбки компании Mango.\n",
    "\n",
    "Выведите только id, название и цену. Данные отсортируйте по цене. Не выводите товары, которых нет в наличии.\n",
    "\n",
    "\n",
    "**Решение:**\n",
    "\n",
    "```MySQL\n",
    "SELECT id, name, price FROM products\n",
    "WHERE (MATCH (name) AGAINST ('+Джинсы +Mango' IN BOOLEAN MODE)\n",
    "OR MATCH (name) AGAINST ('+Юбка +Mango' IN BOOLEAN MODE))\n",
    "AND count > 0\n",
    "ORDER BY price;\n",
    "```"
   ]
  },
  {
   "cell_type": "code",
   "execution_count": null,
   "id": "fc079956",
   "metadata": {},
   "outputs": [],
   "source": []
  }
 ],
 "metadata": {
  "kernelspec": {
   "display_name": "Python 3",
   "language": "python",
   "name": "python3"
  },
  "language_info": {
   "codemirror_mode": {
    "name": "ipython",
    "version": 3
   },
   "file_extension": ".py",
   "mimetype": "text/x-python",
   "name": "python",
   "nbconvert_exporter": "python",
   "pygments_lexer": "ipython3",
   "version": "3.6.8"
  }
 },
 "nbformat": 4,
 "nbformat_minor": 5
}
