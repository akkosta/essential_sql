{
 "cells": [
  {
   "cell_type": "markdown",
   "id": "e78e1157",
   "metadata": {},
   "source": [
    "# 8. Группировка данных"
   ]
  },
  {
   "cell_type": "markdown",
   "id": "e32bdf45",
   "metadata": {},
   "source": [
    "# 8.1 COUNT, MIN, MAX, AVG"
   ]
  },
  {
   "cell_type": "markdown",
   "id": "3c5954e0",
   "metadata": {},
   "source": [
    "Получите из таблицы users количество женщин возрастом до 30 лет.\n",
    "Данные выведите в колонке women.\n",
    "\n",
    "**Решение:**\n",
    "\n",
    "```MySQL\n",
    "SELECT COUNT(id) AS women\n",
    "FROM users\n",
    "WHERE sex = 'w' AND age < 30;\n",
    "```"
   ]
  },
  {
   "cell_type": "markdown",
   "id": "796c10d5",
   "metadata": {},
   "source": [
    "Посчитайте сумму выполненных заказов за январь 2015 года.\n",
    "Заказ считается выполненным, если у него стоит статус «success».\n",
    "Результат выведите в колонке с именем income.\n",
    "\n",
    "**Решение:**\n",
    "\n",
    "```MySQL\n",
    "SELECT SUM(amount) AS income\n",
    "FROM orders\n",
    "WHERE status = 'success' AND date LIKE '2015-01%';\n",
    "```\n",
    "\n",
    "```MySQL\n",
    "SELECT SUM(amount) as income FROM orders\n",
    "WHERE \n",
    "    status = 'success' AND \n",
    "    YEAR(date) = 2015 AND \n",
    "    MONTH(date) = 1;\n",
    "```"
   ]
  },
  {
   "cell_type": "markdown",
   "id": "ea04970a",
   "metadata": {},
   "source": [
    "Получите стоимость самого дорогого отмененного заказа.\n",
    "Заказ считается отмененным, если у него стоит статус «cancelled».\n",
    "Результат выведите в колонке с именем max_losses.\n",
    "\n",
    "**Решение:**\n",
    "\n",
    "```MySQL\n",
    "SELECT MAX(amount) AS max_losses\n",
    "FROM orders\n",
    "WHERE status = 'cancelled';\n",
    "```"
   ]
  },
  {
   "cell_type": "markdown",
   "id": "85df5919",
   "metadata": {},
   "source": [
    "Получите средний чек магазина за 2015 год.\n",
    "Средний чек — это средняя стоимость выполненных (success) заказов.\n",
    "Результат округлите до 2 знаков после точки и выведите в колонке с именем avg_check.\n",
    "\n",
    "**Решение:**\n",
    "\n",
    "```MySQL\n",
    "SELECT ROUND(AVG(amount), 2) AS avg_check\n",
    "FROM orders\n",
    "WHERE status = 'success' AND YEAR(date) = 2015;\n",
    "```"
   ]
  },
  {
   "cell_type": "markdown",
   "id": "b7b350d6",
   "metadata": {},
   "source": [
    "Получите из таблицы clients средний возраст и количество всех мужчин.\n",
    "Возраст округлите до ближайшего нижнего значения и выведите в колонке age, а количество в count.\n",
    "\n",
    "**Решение:**\n",
    "\n",
    "```MySQL\n",
    "SELECT FLOOR(AVG(age)) AS age, COUNT(id) AS count\n",
    "FROM clients\n",
    "WHERE sex = 'm';\n",
    "```"
   ]
  },
  {
   "cell_type": "markdown",
   "id": "98e57c48",
   "metadata": {},
   "source": [
    "Получите дату первого (минимальную дату) отмененного заказа.\n",
    "Значение выведите в формате ДД.ММ.ГГГГ в колонке date.\n",
    "\n",
    "**Решение:**\n",
    "\n",
    "```MySQL\n",
    "SELECT DATE_FORMAT(MIN(date), '%d.%m.%Y') AS date\n",
    "FROM orders\n",
    "WHERE status = 'cancelled';\n",
    "```"
   ]
  },
  {
   "cell_type": "markdown",
   "id": "2b5ab345",
   "metadata": {},
   "source": [
    "В таблице users есть поле activity_date, которое хранит дату и время последней активности пользователя на сайте. Посчитайте сколько пользователей находилось на сайте 8 апреля 2018 года в 12:36:17.\n",
    "Данные выведите в колонке с именем users.\n",
    "\n",
    "Считайте, что пользователь находился на сайте, если он совершал какие-то действия в последние 5 минут до контрольного времени.\n",
    "\n",
    "**Решение:**\n",
    "\n",
    "```MySQL\n",
    "SELECT COUNT(*) as users FROM users\n",
    "WHERE activity_date >= ('2018-04-08 12:36:17' - INTERVAL 5 MINUTE);\n",
    "```"
   ]
  },
  {
   "cell_type": "markdown",
   "id": "7efc77a7",
   "metadata": {},
   "source": [
    "В таблице transactions хранится информация по движению денег по счету компании.\n",
    "\n",
    "Поле amount отвечает за сумму, а поле direction за направление платежа: in — входящий платеж, out — исходящий.\n",
    "\n",
    "Входящие платежи облагаются налогом в 6%, за исключением тех, у которых стоит пометка no_tax = TRUE.\n",
    "Посчитайте какой налог должна заплатить организация за 1 квартал 2017 года.\n",
    "Результат округлите вверх до ближайшего целого и выведите в колонке tax.\n",
    "\n",
    "**Решение:**\n",
    "\n",
    "```MySQL\n",
    "SELECT ROUND(SUM(amount * 0.06)) AS tax\n",
    "FROM transactions\n",
    "WHERE direction = 'in' and no_tax != TRUE and month(date) < 4;\n",
    "```"
   ]
  },
  {
   "cell_type": "markdown",
   "id": "2335c6e8",
   "metadata": {},
   "source": [
    "# 8.2 GROUP BY"
   ]
  },
  {
   "cell_type": "markdown",
   "id": "fccf0751",
   "metadata": {},
   "source": [
    "Сгруппируйте данные в таблице users по полу и получите количество мужчин и женщин.\n",
    "\n",
    "В первой колонке выведите пол, а во второй количество. Имя второй колонки — members.\n",
    "\n",
    "**Решение:**\n",
    "\n",
    "```MySQL\n",
    "SELECT sex, COUNT(sex) AS members\n",
    "FROM users\n",
    "GROUP BY sex;\n",
    "```"
   ]
  },
  {
   "cell_type": "markdown",
   "id": "2504d44f",
   "metadata": {},
   "source": [
    "Сгруппируйте данные в таблице users по возрасту и получите количество сотрудников каждого возраста.\n",
    "\n",
    "В первом столбце выборки выведете возраст, а во втором количество. Имя второго столбца — clients.\n",
    "\n",
    "Данные отсортируйте по возрасту в порядке убывания.\n",
    "\n",
    "**Решение:**\n",
    "\n",
    "```MySQL\n",
    "SELECT age, COUNT(age) AS clients\n",
    "FROM users\n",
    "GROUP BY age\n",
    "ORDER BY age DESC;\n",
    "```"
   ]
  },
  {
   "cell_type": "markdown",
   "id": "0df24b43",
   "metadata": {},
   "source": [
    "Сгруппируйте данные в таблице users по возрасту и получите количество сотрудников каждого возраста.\n",
    "\n",
    "В первом столбце выборки выведете возраст, а во втором количество. Имя второго столбца — clients.\n",
    "\n",
    "Данные отсортируйте по возрасту в порядке убывания.\n",
    "\n",
    "**Решение:**\n",
    "\n",
    "```MySQL\n",
    "SELECT age, COUNT(age) AS clients\n",
    "FROM users\n",
    "GROUP BY age\n",
    "ORDER BY age DESC;\n",
    "```"
   ]
  },
  {
   "cell_type": "markdown",
   "id": "7c232cca",
   "metadata": {},
   "source": [
    "В таблице products хранятся товары в разных категориях. За категории отвечает столбец category_id, который хранит номер категории в другой таблице. Сгруппируйте данные по категориям и получите среднюю стоимость товаров в каждой из них. В первой колонке итоговой таблицы выведите категорию, а в во втором среднюю цену округленную до двух знаков после точки. Имя второго столбца — avg_price.\n",
    "\n",
    "Учитывайте только товары, которые есть в наличии. Отсортируйте результаты по цене.\n",
    "\n",
    "**Решение:**\n",
    "\n",
    "```MySQL\n",
    "SELECT category_id, AVG(price) AS avg_price\n",
    "FROM products\n",
    "WHERE count > 0\n",
    "GROUP BY category_id\n",
    "ORDER BY avg_price;\n",
    "```"
   ]
  },
  {
   "cell_type": "markdown",
   "id": "f07e999a",
   "metadata": {},
   "source": [
    "Сгруппируйте данные в таблице orders по году и получите сумму заказов за каждый год. Данные должны быть отсортированы в хронологическом порядке по году. В первом столбце итоговой таблицы выведете год, а во втором сумму. Имя первого столбца — year, а второго — income. Учитывайте только выполненные заказы.\n",
    "\n",
    "**Решение:**\n",
    "\n",
    "```MySQL\n",
    "SELECT YEAR(date) AS year, SUM(amount) AS income\n",
    "FROM orders\n",
    "WHERE status = 'success'\n",
    "GROUP BY year\n",
    "ORDER BY year;\n",
    "```"
   ]
  },
  {
   "cell_type": "markdown",
   "id": "3eaecb0f",
   "metadata": {},
   "source": [
    "Сгруппируйте данные в таблице orders по году и месяцу, а затем получите сумму и количество заказов в каждом месяце. Данные должны быть отсортированы в хронологическом порядке по году и месяцу.\n",
    "\n",
    "В первом столбце итоговой таблицы выведете год, во втором — номер месяца, в третьем — сумму, а в четвертом — количество заказов. Имена столбцов (по порядку): year, month, income, orders. Учитывайте только завершенные заказы.\n",
    "\n",
    "**Решение:**\n",
    "\n",
    "```MySQL\n",
    "SELECT YEAR(date) AS year, MONTH(date) AS month, SUM(amount) AS income, COUNT(*) AS orders\n",
    "FROM orders\n",
    "WHERE status = 'success'\n",
    "GROUP BY year, month\n",
    "ORDER BY year, month;\n",
    "```"
   ]
  },
  {
   "cell_type": "markdown",
   "id": "4df7d5f5",
   "metadata": {},
   "source": [
    "# 8.3 HAVING"
   ]
  },
  {
   "cell_type": "markdown",
   "id": "cee89e4c",
   "metadata": {},
   "source": [
    "В таблице products содержатся данные о товарах с привязками к категориям (category_id).\n",
    "\n",
    "Получите id категорий и количество товаров на складе для каждой из категорий.\n",
    "Выведите только категории в которых есть товары.\n",
    "Данные отсортируйте по количеству товаров.\n",
    "\n",
    "В итоговой таблице должно быть два столбца: category_id и products.\n",
    "\n",
    "**Решение:**\n",
    "\n",
    "```MySQL\n",
    "SELECT category_id, SUM(count) AS products\n",
    "FROM products\n",
    "WHERE count > 0\n",
    "GROUP BY category_id\n",
    "ORDER BY products;\n",
    "```"
   ]
  },
  {
   "cell_type": "markdown",
   "id": "0e2f3574",
   "metadata": {},
   "source": [
    "В таблице deals содержится список сделок. Чтобы компания нормально функционировала она должна совершать сделок на 300 000 рублей в месяц. Но не во все месяцы это получается.\n",
    "\n",
    "Получите список месяцев, в которых не удалось преодолеть порог в 300 тыс. Итоговая таблица должна состоять из трех столбцов: year — год, month — номер месяца, amount — сумма сделок.\n",
    "\n",
    "**Решение:**\n",
    "\n",
    "```MySQL\n",
    "SELECT YEAR(date) AS year, MONTH(date) AS month, SUM(amount) AS amount\n",
    "FROM deals\n",
    "GROUP BY year, month\n",
    "HAVING amount < 300000;\n",
    "```"
   ]
  },
  {
   "cell_type": "markdown",
   "id": "239013fb",
   "metadata": {},
   "source": [
    "В таблице bus_logs хранятся данные о прибытии автобусов на остановки.\n",
    "В поле diff содержится разница в секундах относительно контрольного времени прибытия.\n",
    "\n",
    "Положительные значения говорят о том, что автобус прибыл рано, отрицательные, о том, что он опоздал, 0 – приехал вовремя.\n",
    "Получите список водителей, которые в среднем опаздывают или опережают график на 30 секунд и более.\n",
    "\n",
    "Итоговая таблица должна состоять из двух колонок: driver_id с номером водителя и avg_diff со средним отклонением. Среднее отклонение следует округлить до целого числа.\n",
    "\n",
    "PS. В данном задании следует использовать среднее абсолютное отклонение.\n",
    "\n",
    "**Решение:**\n",
    "\n",
    "```MySQL\n",
    "SELECT driver_id, ROUND(AVG(ABS(diff))) as avg_diff\n",
    "FROM bus_logs\n",
    "GROUP BY driver_id\n",
    "HAVING avg_diff >= 30;\n",
    "```"
   ]
  },
  {
   "cell_type": "markdown",
   "id": "1aeccbf7",
   "metadata": {},
   "source": [
    "В таблице deals содержится список сделок. Получите из таблицы следующие данные:\n",
    "\n",
    "1. user_id — идентификатор пользователя;\n",
    "2. deals — количество сделок сотрудника\n",
    "3. sum_amount — сумма платежей по сделкам;\n",
    "4. max_amount — максимальный платеж.\n",
    "\n",
    "Учитывайте только закрытые сделки. Информацию выводите только для тех сотрудников, которые закрыли 3 и более сделок\n",
    "\n",
    "**Решение:**\n",
    "\n",
    "```MySQL\n",
    "SELECT user_id, COUNT(*) AS deals,\n",
    "       SUM(amount) AS sum_amount,\n",
    "       MAX(amount) AS max_amount\n",
    "FROM deals\n",
    "WHERE status = 'closed'\n",
    "GROUP BY user_id\n",
    "HAVING deals >= 3;\n",
    "```"
   ]
  },
  {
   "cell_type": "code",
   "execution_count": null,
   "id": "fc079956",
   "metadata": {},
   "outputs": [],
   "source": [
    "\n"
   ]
  }
 ],
 "metadata": {
  "kernelspec": {
   "display_name": "Python 3",
   "language": "python",
   "name": "python3"
  },
  "language_info": {
   "codemirror_mode": {
    "name": "ipython",
    "version": 3
   },
   "file_extension": ".py",
   "mimetype": "text/x-python",
   "name": "python",
   "nbconvert_exporter": "python",
   "pygments_lexer": "ipython3",
   "version": "3.6.8"
  }
 },
 "nbformat": 4,
 "nbformat_minor": 5
}
