{
 "cells": [
  {
   "cell_type": "markdown",
   "id": "e78e1157",
   "metadata": {},
   "source": [
    "# 2. Добавление, удаление, редактирование данных"
   ]
  },
  {
   "cell_type": "markdown",
   "id": "6ff12ec3",
   "metadata": {},
   "source": [
    "SQL = Structured Query Language"
   ]
  },
  {
   "cell_type": "markdown",
   "id": "7590bda0",
   "metadata": {},
   "source": [
    "[MySQL](https://www.mysqltutorial.org/mysql-having.aspx/): `FROM` => `WHERE` = `SELECT` = `GROUP BY` = `HAVING` = `ORDER BY` = `LIMIT`.   \n",
    "\n",
    "[PostgreSQL](https://www.postgresqltutorial.com/postgresql-having/): `FROM` => `WHERE` = `GROUP BY` = `HAVING` = `SELECT` = `DISTINCT` = `ORDER BY` = `LIMIT`. "
   ]
  },
  {
   "cell_type": "markdown",
   "id": "940e3af1",
   "metadata": {},
   "source": [
    "Структура:\n",
    "\n",
    "```MySQL\n",
    "SELECT column_name(s)\n",
    "FROM table_name\n",
    "WHERE condition\n",
    "GROUP BY column_name(s)\n",
    "HAVING condition\n",
    "ORDER BY column_name(s);\n",
    "LIMIT number of tuples;\n",
    "```"
   ]
  },
  {
   "cell_type": "markdown",
   "id": "64d1405a",
   "metadata": {},
   "source": [
    "На примере таблицы **Сотрудник** рассмотрим терминологию реляционных баз данных:\n",
    "\n",
    "- **Relation** (*Отношение*) – это структура данных целиком, набор записей (в обычном понимании – **таблица**) , в  примере – это `Сотрудник`;\n",
    "- **Tuple** (*Кортеж*) – это каждая строка, содержащая данные (более распространенный термин – **запись**), например, `<001, Борин С.А, 234-01-23, программист>`, все кортежи в отношении должны быть различны;\n",
    "- **Мощность** – число кортежей в таблице (проще говоря, **число записей**), в данном случае 3, мощность отношения может быть любой (от 0 до бесконечности), порядок следования кортежей - неважен;\n",
    "- **Attribute / Field**  (*Атрибут*) – это столбец в таблице (более распространенный термин – *поле*), в примере – `Табельный номер`, `Фамилия И.О.`, `Телефон`, `Должность`); \n",
    "- **Dimension** (*Размерность*) – это число атрибутов в таблице, в данном случае – 4; размерность отношения должна быть больше 0, порядок следования атрибутов существенен;\n",
    "- **Domain** (*Домен атрибута*) – это допустимые значения (неповторяющиеся), которые можно занести в поле , например для атрибута `Должность` домен – `{инженер, программист}`."
   ]
  },
  {
   "cell_type": "markdown",
   "id": "eeb5029a",
   "metadata": {},
   "source": [
    "# 2.1 Добавление данных"
   ]
  },
  {
   "cell_type": "markdown",
   "id": "016c499a",
   "metadata": {},
   "source": [
    "Добавьте в таблицу **orders** данные о новом заказе стоимостью 3000 рублей. В заказе 3 товара (**products**).\n",
    "\n",
    "```MySQL\n",
    "INSERT INTO orders (id, products, sum)\n",
    "VALUES (6, 3, 3000);\n",
    "```"
   ]
  },
  {
   "cell_type": "markdown",
   "id": "6a7dbe06",
   "metadata": {},
   "source": [
    "Добавьте в таблицу **products** новый товар — «Xbox», стоимостью 30000 рублей в количестве (**count**) трех штук.\n",
    "\n",
    "```MySQL\n",
    "INSERT INTO products (id, name,\tcount, price)\n",
    "VALUES (7, 'Xbox', 3, 30000);\n",
    "```"
   ]
  },
  {
   "cell_type": "markdown",
   "id": "bb6069e8",
   "metadata": {},
   "source": [
    "Добавьте в таблицу **products** новый товар — «iMac 21», стоимостью 100100 рублей. Товар пока не завезли на склад.\n",
    "\n",
    "```MySQL\n",
    "INSERT INTO products (id, name,\tcount, price)\n",
    "VALUES (8, 'iMac 21', 0, 100100);\n",
    "```"
   ]
  },
  {
   "cell_type": "markdown",
   "id": "4c505f12",
   "metadata": {},
   "source": [
    "Добавьте в таблицу **users** нового пользователя Антона Пепеляева с датой рождения 12 июля 1992 года\n",
    "\n",
    "```MySQL\n",
    "INSERT INTO users (id, first_name, last_name, birthday)\n",
    "VALUES (9, 'Антон', 'Пепеляев', '1992-07-12');\n",
    "```"
   ]
  },
  {
   "cell_type": "markdown",
   "id": "6c51fec8",
   "metadata": {},
   "source": [
    "Добавьте в таблицу **users** нового пользователя Никиту Петрова. Дату рождения не указывайте. Используйте ключевое слово SET.\n",
    "\n",
    "```MySQL\n",
    "INSERT INTO users\n",
    "SET id = 10, first_name = 'Никита', last_name = 'Петров';\n",
    "```"
   ]
  },
  {
   "cell_type": "markdown",
   "id": "2a258282",
   "metadata": {},
   "source": [
    "Добавьте одним SQL запросом в таблицу products следующие товары:\n",
    "* iPhone 7, цена 59990, 1 шт.\n",
    "* iPhone 8, цена 64990, 3 шт.\n",
    "* iPhone X, цена 79900, 2 шт.\n",
    "\n",
    "```MySQL\n",
    "INSERT INTO products (id, name,\tcount, price)\n",
    "VALUES\n",
    "(8, 'iPhone 7', 1, 59990),\n",
    "(9, 'iPhone 8', 3, 64990),\n",
    "(10, 'iPhone X', 2, 79900);\n",
    "```"
   ]
  },
  {
   "cell_type": "markdown",
   "id": "a001c08a",
   "metadata": {},
   "source": [
    "# 2.2 Обновление данных"
   ]
  },
  {
   "cell_type": "markdown",
   "id": "bbaa5731",
   "metadata": {},
   "source": [
    "В таблицу **products** внесли данные с ошибкой, вместо iMac в наименовании написали IMAC. Исправьте ошибку.\n",
    "\n",
    "```MySQL\n",
    "UPDATE products\n",
    "SET name='iMac' WHERE name='IMAC';\n",
    "```"
   ]
  },
  {
   "cell_type": "markdown",
   "id": "b1673e43",
   "metadata": {},
   "source": [
    "Увеличьте в таблице **users** сотрудникам, у которых зарплата менее 20 000 рублей, зарплату (**salary**) на 10%.\n",
    "\n",
    "```MySQL\n",
    "UPDATE users\n",
    "SET salary = salary * 1.1 WHERE salary < 20000;\n",
    "```"
   ]
  },
  {
   "cell_type": "markdown",
   "id": "8af16b90",
   "metadata": {},
   "source": [
    "Проставьте всем заказам без статуса (**status** равен NULL) статус \"**new**\".\n",
    "\n",
    "**NULL** – это особое слово в MySQL и в отличии от \"cancelled\" или \"new\", его нужно писать без кавычек.\n",
    "А чтобы сравнить значение в поле с NULL, нужно использовать не символы равенства (=) и неравенства (<>),\n",
    "а специальное выражение IS NULL или IS NOT NULL.\n",
    "\n",
    "```MySQL\n",
    "UPDATE orders\n",
    "SET orders.status = 'new' WHERE orders.status IS NULL;\n",
    "```"
   ]
  },
  {
   "cell_type": "markdown",
   "id": "43ff2e36",
   "metadata": {},
   "source": [
    "В поле **amount** в таблице **orders** должно стоять число, которое равно произведению цены (**sum**) на количество (**products_count**). Но из-за сбоя в системе некоторые значения суммы получили 0 или NULL. Обновите таблицу, чтобы в поле amount были правильные значения.\n",
    "\n",
    "```MySQL\n",
    "UPDATE orders\n",
    "SET amount = sum * products_count WHERE amount = 0 OR amount IS NULL;\n",
    "```"
   ]
  },
  {
   "cell_type": "markdown",
   "id": "01f55f7d",
   "metadata": {},
   "source": [
    "Измените статус (**status**) заказа под номером (**id**) 5 с **delivery** на **success**.\n",
    "\n",
    "```MySQL\n",
    "UPDATE orders\n",
    "SET status = 'success' WHERE id = 5;\n",
    "```"
   ]
  },
  {
   "cell_type": "markdown",
   "id": "bd785426",
   "metadata": {},
   "source": [
    "Увеличьте цену 5 самых дешевых товаров на 5%.\n",
    "\n",
    "```MySQL\n",
    "UPDATE products\n",
    "SET price = price * 1.05\n",
    "ORDER BY price ASC\n",
    "LIMIT 5;\n",
    "```"
   ]
  },
  {
   "cell_type": "markdown",
   "id": "df890013",
   "metadata": {},
   "source": [
    "Уменьшите цену 5 самых дорогих товаров на 5000 рублей.\n",
    "\n",
    "```MySQL\n",
    "UPDATE products\n",
    "SET price = price - 5000\n",
    "ORDER BY price DESC\n",
    "LIMIT 5;\n",
    "```"
   ]
  },
  {
   "cell_type": "markdown",
   "id": "4b97f4f7",
   "metadata": {},
   "source": [
    "Ниже находится таблица с товарами в магазине. В поле **count** содержится текущее количество товаров на полках и на складе.\n",
    "\n",
    "В магазин привезли 2 упаковки Сникерса и 2 упаковки Марса. В каждой упаковке по 20 шоколадок. Обновите данные так, чтобы они отражали количество шоколадок с учетом нового привоза.\n",
    "\n",
    "```MySQL\n",
    "UPDATE products\n",
    "SET count = count + 40\n",
    "WHERE name = 'Сникерс' OR name = 'Марс';\n",
    "```\n",
    "\n",
    "```MySQL\n",
    "UPDATE products\n",
    "SET count = count + 2 * 20\n",
    "WHERE name IN(\"Сникерс\",\"Марс\");\n",
    "```\n",
    "\n",
    "```MySQL\n",
    "UPDATE products\n",
    "SET count = (CASE id WHEN 3 THEN count + 40 WHEN 5 THEN count + 40 END)\n",
    "WHERE id IN(3, 5);\n",
    "```"
   ]
  },
  {
   "cell_type": "markdown",
   "id": "9922afa8",
   "metadata": {},
   "source": [
    "# 2.3 Удаление данных"
   ]
  },
  {
   "cell_type": "markdown",
   "id": "eca5bcca",
   "metadata": {},
   "source": [
    "Удалите из таблицы **visits** все данные с помощью конструкции **DELETE**.\n",
    "\n",
    "\n",
    "```MySQL\n",
    "DELETE from visits;\n",
    "```"
   ]
  },
  {
   "cell_type": "markdown",
   "id": "865ed7b0",
   "metadata": {},
   "source": [
    "Удалите из таблицы products все товары, которых нет на складе.\n",
    "\n",
    "\n",
    "```MySQL\n",
    "DELETE from products\n",
    "WHERE count = 0;\n",
    "```"
   ]
  },
  {
   "cell_type": "markdown",
   "id": "c77532fb",
   "metadata": {},
   "source": [
    "Удалите из таблицы **cars** все автомобили начиная с **2010** года и старше\n",
    "\n",
    "\n",
    "```MySQL\n",
    "DELETE from cars\n",
    "WHERE year <= 2010;\n",
    "```"
   ]
  },
  {
   "cell_type": "markdown",
   "id": "99c5d3de",
   "metadata": {},
   "source": [
    "Удалите из таблицы **cars** все корейские (country = \"KR\") автомобили, а также все автомобили мощностью (**power**) меньше 80 лс.\n",
    "Используйте один SQL-запрос.\n",
    "\n",
    "\n",
    "```MySQL\n",
    "DELETE from cars\n",
    "WHERE country = \"KR\" OR power < 80;\n",
    "```"
   ]
  },
  {
   "cell_type": "markdown",
   "id": "bfd9c25f",
   "metadata": {},
   "source": [
    "Удалите из таблицы **cars** все японские автомобили мощностью менее 80 и более 130 лс. (включая крайние значения).\n",
    "\n",
    "\n",
    "```MySQL\n",
    "DELETE from cars\n",
    "WHERE country = \"JP\" AND (power <= 80 OR power >= 130);\n",
    "```\n",
    "\n",
    "```MySQL\n",
    "DELETE FROM cars\n",
    "WHERE country = 'JP' and power NOT BETWEEN 81 and 129;\n",
    "```"
   ]
  },
  {
   "cell_type": "markdown",
   "id": "1d7e3490",
   "metadata": {},
   "source": [
    "Удалите из таблицы **cars** все данные с помощью инструкции **TRUNCATE**.\n",
    "\n",
    "\n",
    "```MySQL\n",
    "TRUNCATE TABLE cars;\n",
    "```"
   ]
  },
  {
   "cell_type": "code",
   "execution_count": null,
   "id": "bd0d18b5",
   "metadata": {},
   "outputs": [],
   "source": []
  }
 ],
 "metadata": {
  "kernelspec": {
   "display_name": "Python 3",
   "language": "python",
   "name": "python3"
  },
  "language_info": {
   "codemirror_mode": {
    "name": "ipython",
    "version": 3
   },
   "file_extension": ".py",
   "mimetype": "text/x-python",
   "name": "python",
   "nbconvert_exporter": "python",
   "pygments_lexer": "ipython3",
   "version": "3.6.8"
  }
 },
 "nbformat": 4,
 "nbformat_minor": 5
}
