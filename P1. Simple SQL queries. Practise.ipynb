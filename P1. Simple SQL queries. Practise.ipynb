{
 "cells": [
  {
   "cell_type": "markdown",
   "id": "8f5a0392",
   "metadata": {},
   "source": [
    "# 1. Простые SQL запросы"
   ]
  },
  {
   "cell_type": "markdown",
   "id": "240950dc",
   "metadata": {},
   "source": [
    "SQL = Structured Query Language"
   ]
  },
  {
   "cell_type": "markdown",
   "id": "1a78485b",
   "metadata": {},
   "source": [
    "[MySQL](https://www.mysqltutorial.org/mysql-having.aspx/): `FROM` => `WHERE` = `SELECT` = `GROUP BY` = `HAVING` = `ORDER BY` = `LIMIT`.   \n",
    "\n",
    "[PostgreSQL](https://www.postgresqltutorial.com/postgresql-having/): `FROM` => `WHERE` = `GROUP BY` = `HAVING` = `SELECT` = `DISTINCT` = `ORDER BY` = `LIMIT`. "
   ]
  },
  {
   "cell_type": "markdown",
   "id": "0bacfdfc",
   "metadata": {},
   "source": [
    "Структура:\n",
    "\n",
    "```MySQL\n",
    "SELECT column_name(s)\n",
    "FROM table_name\n",
    "WHERE condition\n",
    "GROUP BY column_name(s)\n",
    "HAVING condition\n",
    "ORDER BY column_name(s);\n",
    "LIMIT number of tuples;\n",
    "```"
   ]
  },
  {
   "cell_type": "markdown",
   "id": "b42c0898",
   "metadata": {},
   "source": [
    "На примере таблицы **Сотрудник** рассмотрим терминологию реляционных баз данных:\n",
    "\n",
    "- **Relation** (*Отношение*) – это структура данных целиком, набор записей (в обычном понимании – **таблица**) , в  примере – это `Сотрудник`;\n",
    "- **Tuple** (*Кортеж*) – это каждая строка, содержащая данные (более распространенный термин – **запись**), например, `<001, Борин С.А, 234-01-23, программист>`, все кортежи в отношении должны быть различны;\n",
    "- **Мощность** – число кортежей в таблице (проще говоря, **число записей**), в данном случае 3, мощность отношения может быть любой (от 0 до бесконечности), порядок следования кортежей - неважен;\n",
    "- **Attribute / Field**  (*Атрибут*) – это столбец в таблице (более распространенный термин – *поле*), в примере – `Табельный номер`, `Фамилия И.О.`, `Телефон`, `Должность`); \n",
    "- **Dimension** (*Размерность*) – это число атрибутов в таблице, в данном случае – 4; размерность отношения должна быть больше 0, порядок следования атрибутов существенен;\n",
    "- **Domain** (*Домен атрибута*) – это допустимые значения (неповторяющиеся), которые можно занести в поле , например для атрибута `Должность` домен – `{инженер, программист}`."
   ]
  },
  {
   "cell_type": "markdown",
   "id": "e0127ff5",
   "metadata": {},
   "source": [
    "# 1.1 Первые запросы"
   ]
  },
  {
   "cell_type": "markdown",
   "id": "3e7ac789",
   "metadata": {},
   "source": [
    "**products**\n",
    "\n",
    "|id| name | count | price |\n",
    "|--|----- |-------| ----- |\n",
    "|0| TV | 5 | 10000 |\n",
    "|1| Toaster | 0 | 700 |\n",
    "|2| Vacuum | 2 | 4500 |"
   ]
  },
  {
   "cell_type": "markdown",
   "id": "5ae6f6be",
   "metadata": {},
   "source": [
    "Получите всю информацию о товарах из таблицы **products**.\n",
    "\n",
    "```MySQL\n",
    "SELECT * FROM products\n",
    "```"
   ]
  },
  {
   "cell_type": "markdown",
   "id": "5ec208d4",
   "metadata": {},
   "source": [
    "Получите название (**name**) и цену (**price**) всех товаров из таблицы **products**.\n",
    "\n",
    "```MySQL\n",
    "SELECT name, price FROM products\n",
    "```"
   ]
  },
  {
   "cell_type": "markdown",
   "id": "d78b62da",
   "metadata": {},
   "source": [
    "Выберите из таблицы **products** все записи, в которых цена (**price**) меньше 3000.\n",
    "\n",
    "```MySQL\n",
    "SELECT * FROM products\n",
    "WHERE price < 3000\n",
    "```"
   ]
  },
  {
   "cell_type": "markdown",
   "id": "8bb078fd",
   "metadata": {},
   "source": [
    "Выберите из таблицы products имена (**name**) и цены (**price**) всех товаров, стоимостью от 10 000 и выше.\n",
    "\n",
    "```MySQL\n",
    "SELECT * FROM products\n",
    "WHERE price >= 10000\n",
    "```"
   ]
  },
  {
   "cell_type": "markdown",
   "id": "8147075c",
   "metadata": {},
   "source": [
    "Получите из таблицы **products** имена (**name**) товаров, которые закончились.\n",
    "\n",
    "```MySQL\n",
    "SELECT * FROM products\n",
    "WHERE count = 0\n",
    "```"
   ]
  },
  {
   "cell_type": "markdown",
   "id": "512e7f18",
   "metadata": {},
   "source": [
    "Выберите из таблицы products название (**name**) и цены (**price**) товаров, стоимостью до 4000 включительно.\n",
    "\n",
    "```MySQL\n",
    "SELECT name, price FROM products\n",
    "WHERE price <= 4000\n",
    "```"
   ]
  },
  {
   "cell_type": "markdown",
   "id": "423b97af",
   "metadata": {},
   "source": [
    "# 1.2 Составные условия"
   ]
  },
  {
   "cell_type": "markdown",
   "id": "772507e1",
   "metadata": {},
   "source": [
    "**orders**\n",
    "\n",
    "| id | user_id | products_count | sum | status |\n",
    "|----|-----|-----|----|---------------|\n",
    "|0| 18 | 2 | 13000 | new |\n",
    "|1| 11 | 1 | 200 | cancelled |\n",
    "|2| 147 | 5 | 6800 | in_progress |\n",
    "|3| 2355 | 0 | 999 | delivery |"
   ]
  },
  {
   "cell_type": "markdown",
   "id": "f07aa49d",
   "metadata": {},
   "source": [
    "Выберите из таблицы **orders** все заказы кроме отмененных. У отмененных заказов **status** равен \"**cancelled**\".\n",
    "\n",
    "```MySQL\n",
    "SELECT * FROM orders\n",
    "WHERE status != 'cancelled'\n",
    "```"
   ]
  },
  {
   "cell_type": "markdown",
   "id": "43401b3f",
   "metadata": {},
   "source": [
    "Выберите из таблицы orders все заказы содержащие более 3 товаров (**products_count**).\n",
    "Вывести нужно только номер (**id**) и сумму (**sum**) заказа.\n",
    "\n",
    "```MySQL\n",
    "SELECT id, sum FROM orders\n",
    "WHERE products_count > 3\n",
    "```"
   ]
  },
  {
   "cell_type": "markdown",
   "id": "eb638976",
   "metadata": {},
   "source": [
    "Выберите из таблицы **orders** все отмененные заказы. У отмененных заказов status равен \"**cancelled**\".\n",
    "\n",
    "```MySQL\n",
    "SELECT * FROM orders\n",
    "WHERE status = 'cancelled'\n",
    "```"
   ]
  },
  {
   "cell_type": "markdown",
   "id": "75db0cd8",
   "metadata": {},
   "source": [
    "Выберите из таблицы **orders** все отмененные (**cancelled**) и возвращенные (**returned**) товары.\n",
    "Используйте **IN**.\n",
    "\n",
    "```MySQL\n",
    "SELECT * FROM orders\n",
    "WHERE status IN ('cancelled', 'returned')\n",
    "```"
   ]
  },
  {
   "cell_type": "markdown",
   "id": "e6df342f",
   "metadata": {},
   "source": [
    "Выберите из таблицы **orders** все заказы, у которых сумма (**sum**) больше 3000 или количество товаров (**products_count**) от 3 и больше.\n",
    "\n",
    "```MySQL\n",
    "SELECT * FROM orders\n",
    "WHERE sum > 3000 OR products_count >= 3\n",
    "```"
   ]
  },
  {
   "cell_type": "markdown",
   "id": "2531de95",
   "metadata": {},
   "source": [
    "Выберите из таблицы **orders** все заказы, у которых сумма (**sum**) от 3000 и выше, а количество товаров (**products_count**) меньше 3.\n",
    "\n",
    "```MySQL\n",
    "SELECT * FROM orders\n",
    "WHERE sum >= 3000 AND products_count < 3\n",
    "```"
   ]
  },
  {
   "cell_type": "markdown",
   "id": "ed693f75",
   "metadata": {},
   "source": [
    "Выберите из таблицы **orders** все отмененные заказы стоимостью от 3000 до 10000 рублей включительно.\n",
    "Используйте **BETWEEN**.\n",
    "\n",
    "```MySQL\n",
    "SELECT * FROM orders\n",
    "WHERE status = 'cancelled' AND sum BETWEEN 3000 AND 10000\n",
    "```"
   ]
  },
  {
   "cell_type": "markdown",
   "id": "792ca3f7",
   "metadata": {},
   "source": [
    "Выберите из таблицы **orders** все отмененные заказы исключая заказы стоимостью от 3000 до 10000 рублей включительно.\n",
    "\n",
    "```MySQL\n",
    "SELECT * FROM orders\n",
    "WHERE status = 'cancelled' AND sum NOT BETWEEN 3000 AND 10000\n",
    "```"
   ]
  },
  {
   "cell_type": "markdown",
   "id": "1dfeb318",
   "metadata": {},
   "source": [
    "# 1.4 Сортировка результатов"
   ]
  },
  {
   "cell_type": "markdown",
   "id": "ee0a7c38",
   "metadata": {},
   "source": [
    "Выберите из таблицы **products** все товары в порядке возрастания цены (**price**).\n",
    "\n",
    "```MySQL\n",
    "SELECT * FROM products\n",
    "ORDER BY price ASC\n",
    "```"
   ]
  },
  {
   "cell_type": "markdown",
   "id": "71e93cfe",
   "metadata": {},
   "source": [
    "Выберите из таблицы **products** все товары в порядке убывания цены.\n",
    "Выведите только имена (**name**) и цены (**price**).\n",
    "\n",
    "```MySQL\n",
    "SELECT name, price FROM products\n",
    "ORDER BY price DESC\n",
    "```"
   ]
  },
  {
   "cell_type": "markdown",
   "id": "ec32db97",
   "metadata": {},
   "source": [
    "Выберите из таблицы **products** все товары стоимостью 5000 и выше в порядке убывания цены (**price**).\n",
    "\n",
    "```MySQL\n",
    "SELECT * FROM products \n",
    "WHERE price >= 5000\n",
    "ORDER BY price DESC\n",
    "```"
   ]
  },
  {
   "cell_type": "markdown",
   "id": "e000cb74",
   "metadata": {},
   "source": [
    "Выберите из таблицы products все товары стоимостью до 3000 рублей отсортированные в алфавитном порядке. Вывести нужно только имя (**name**), количество (**count**) и цену (**price**).\n",
    "\n",
    "```MySQL\n",
    "SELECT name, count, price FROM products \n",
    "WHERE price < 3000\n",
    "ORDER BY name ASC\n",
    "```"
   ]
  },
  {
   "cell_type": "markdown",
   "id": "edeb9a4a",
   "metadata": {},
   "source": [
    "Выберите из таблицы **users** фамилии (**last_name**) и имена (**first_name**) всех пользователей.\n",
    "Данные должны быть отсортированы сначала по фамилии, а затем по имени.\n",
    "\n",
    "```MySQL\n",
    "SELECT last_name, first_name FROM users \n",
    "ORDER BY last_name, first_name ASC\n",
    "```"
   ]
  },
  {
   "cell_type": "markdown",
   "id": "fe743e5d",
   "metadata": {},
   "source": [
    "Выберите из таблицы **users** всех пользователей с зарплатой от 40 000 рублей и выше. Данные нужно сначала отсортировать по убыванию зарплаты (**salary**), а затем в алфавитном порядке по имени (**first_name**).\n",
    "\n",
    "```MySQL\n",
    "SELECT * FROM users\n",
    "WHERE salary >= 40000\n",
    "ORDER BY salary DESC, first_name ASC\n",
    "```"
   ]
  },
  {
   "cell_type": "markdown",
   "id": "8bbc8042",
   "metadata": {},
   "source": [
    "Выберите сотрудников из таблицы **users** с зарплатой (**salary**) меньше 30 000 рублей и отсортируйте данные по дате рождения (**birthday**). Сотрудников с нулевой зарплатой выбирать не нужно.\n",
    "\n",
    "```MySQL\n",
    "SELECT * FROM users\n",
    "WHERE salary < 30000 AND salary != 0\n",
    "ORDER BY birthday ASC\n",
    "```"
   ]
  },
  {
   "cell_type": "markdown",
   "id": "15940d2c",
   "metadata": {},
   "source": [
    "# 1.4 Сортировка результатов"
   ]
  },
  {
   "cell_type": "markdown",
   "id": "f25fc56e",
   "metadata": {},
   "source": [
    "Выберите из таблицы **orders** 5 самых дорогих заказов за всё время.\n",
    "Данные нужно отсортировать в порядке убывания цены.\n",
    "Отмененные заказы не учитывайте.\n",
    "\n",
    "```MySQL\n",
    "SELECT * FROM orders\n",
    "WHERE status != 'cancelled'\n",
    "ORDER BY price DESC\n",
    "LIMIT 5\n",
    "```\n",
    "\n",
    "```MySQL\n",
    "SELECT * FROM orders\n",
    "WHERE status NOT IN ('cancelled')\n",
    "ORDER BY price DESC\n",
    "LIMIT 5\n",
    "```"
   ]
  },
  {
   "cell_type": "markdown",
   "id": "626d600c",
   "metadata": {},
   "source": [
    "Выберите из таблицы **products** название и цены трех самых дешевых товаров, которые есть на складе.\n",
    "\n",
    "```MySQL\n",
    "SELECT name, price FROM products\n",
    "WHERE count > 0\n",
    "ORDER BY price ASC\n",
    "LIMIT 3\n",
    "```"
   ]
  },
  {
   "cell_type": "markdown",
   "id": "0366a70c",
   "metadata": {},
   "source": [
    "Выберите из таблицы **orders** три последних заказа (по дате **date**) стоимостью от 3000 рублей и выше.\n",
    "Данные отсортируйте по дате в обратном порядке.\n",
    "\n",
    "```MySQL\n",
    "SELECT * FROM orders\n",
    "WHERE sum >= 3000\n",
    "ORDER BY date DESC\n",
    "LIMIT 3;\n",
    "```"
   ]
  },
  {
   "cell_type": "markdown",
   "id": "99598bb1",
   "metadata": {},
   "source": [
    "Сайт выводит товары по 5 штук. Выберите из таблицы **products** товары, которые пользователи увидят на 3 странице каталога при сортировке в порядке возрастания цены (**price**).\n",
    "\n",
    "```MySQL\n",
    "SELECT * FROM products\n",
    "ORDER BY price ASC\n",
    "LIMIT 10, 5;\n",
    "```"
   ]
  },
  {
   "cell_type": "markdown",
   "id": "7c5be1b8",
   "metadata": {},
   "source": [
    "В таблице **products** 17 записей. Сайт выводит название (**name**) и цену (**price**) товаров в алфавитном порядке, по 6 записей на страницу. Напишите SQL запрос для получения списка товаров для формирования последней страницы каталога.\n",
    "Товары, которых нет на складе, выводить не надо (таких товаров 3).\n",
    "\n",
    "```MySQL\n",
    "SELECT name, price FROM products\n",
    "WHERE count > 0\n",
    "ORDER BY name ASC\n",
    "LIMIT 12, 2;\n",
    "```"
   ]
  },
  {
   "cell_type": "code",
   "execution_count": null,
   "id": "301589ee",
   "metadata": {},
   "outputs": [],
   "source": []
  }
 ],
 "metadata": {
  "kernelspec": {
   "display_name": "Python 3",
   "language": "python",
   "name": "python3"
  },
  "language_info": {
   "codemirror_mode": {
    "name": "ipython",
    "version": 3
   },
   "file_extension": ".py",
   "mimetype": "text/x-python",
   "name": "python",
   "nbconvert_exporter": "python",
   "pygments_lexer": "ipython3",
   "version": "3.6.8"
  }
 },
 "nbformat": 4,
 "nbformat_minor": 5
}
