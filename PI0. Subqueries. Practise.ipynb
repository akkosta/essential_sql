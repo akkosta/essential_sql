{
 "cells": [
  {
   "cell_type": "markdown",
   "id": "e78e1157",
   "metadata": {},
   "source": [
    "# 10. Вложенные запросы"
   ]
  },
  {
   "cell_type": "markdown",
   "id": "e32bdf45",
   "metadata": {},
   "source": [
    "# 10.1 Простые вложенные запросы"
   ]
  },
  {
   "cell_type": "markdown",
   "id": "3c5954e0",
   "metadata": {},
   "source": [
    "Выведите id и названия категорий, в которых в наличии есть товары.\n",
    "Данные отсортируйте по имени категории.\n",
    "\n",
    "Используйте вложенные запросы.\n",
    "\n",
    "**Решение:**\n",
    "\n",
    "```MySQL\n",
    "SELECT *  FROM categories\n",
    "WHERE categories.id IN (\n",
    "    SELECT products.category FROM products WHERE products.count > 0\n",
    "    )\n",
    "ORDER BY categories.name ASC;\n",
    "```"
   ]
  },
  {
   "cell_type": "markdown",
   "id": "0aad1588",
   "metadata": {},
   "source": [
    "В таблице orders хранятся заказы пользователей, а в users непосредственно сами покупатели. Получите информацию о покупателях, которые сделали самый дорогой заказ.\n",
    "\n",
    "Заказов с максимальной стоимостью может быть несколько, а значит и покупателей может быть несколько.\n",
    "\n",
    "Учитывайте только завершенные заказы.\n",
    "Данные отсортируйте по id покупателей.\n",
    "\n",
    "**Решение:**\n",
    "\n",
    "```MySQL\n",
    "SELECT *  FROM users\n",
    "WHERE id IN (\n",
    "    SELECT user_id FROM orders WHERE status='completed' AND amount =\n",
    "    (SELECT max(amount) FROM orders WHERE status='completed')\n",
    "    )\n",
    "ORDER BY id;\n",
    "```"
   ]
  },
  {
   "cell_type": "markdown",
   "id": "6a905f46",
   "metadata": {},
   "source": [
    "Получите из таблицы products джинсы, стоимость которых больше средней цены за джинсы.\n",
    "\n",
    "Выведите id, название и цену.\n",
    "\n",
    "Данные отсортируйте по цене, а затем по id.\n",
    "\n",
    "**Решение:**\n",
    "\n",
    "```MySQL\n",
    "SELECT products.id, products.name, products.price \n",
    "FROM products \n",
    " WHERE category = 1 AND price >  \n",
    " (SELECT AVG(products.price) FROM products\n",
    "  WHERE products.category = 1)\n",
    "ORDER BY products.price;\n",
    "```"
   ]
  },
  {
   "cell_type": "markdown",
   "id": "8558e367",
   "metadata": {},
   "source": [
    "# 10.2 IN, ANY, ALL"
   ]
  },
  {
   "cell_type": "markdown",
   "id": "1d5b20e0",
   "metadata": {},
   "source": [
    "В таблице products хранятся товары, а в categories — категории, к которым они относятся.\n",
    "\n",
    "Поле category_id является внешним ключом, который указывает на первичный ключ категории.\n",
    "\n",
    "Получите список овощей, цена которых больше чем ЛЮБАЯ из цен фруктов (дороже хотя бы одного из фруктов).\n",
    "Выведите название и цену продукта, данные отсортируйте по названию.\n",
    "\n",
    "**Решение:**\n",
    "\n",
    "```MySQL\n",
    "SELECT name, price\n",
    "FROM products\n",
    "WHERE price > ANY (\n",
    "    SELECT price FROM products WHERE category_id = 3)\n",
    "AND category_id = 9\n",
    "ORDER BY name;\n",
    "```"
   ]
  },
  {
   "cell_type": "markdown",
   "id": "a06298f8",
   "metadata": {},
   "source": [
    "В таблице products хранятся товары, а в categories — категории, к которым они относятся.\n",
    "\n",
    "Поле category_id является внешним ключом, который указывает на первичный ключ категории.\n",
    "\n",
    "Магазину нужно заказать только те фрукты, количество которых меньше самого маленького количества овощей. Получите список фруктов, которые необходимо заказать.\n",
    "Выведите название и количества продукта, данные отсортируйте по названию.\n",
    "\n",
    "**Решение:**\n",
    "\n",
    "```MySQL\n",
    "SELECT name, count FROM products\n",
    "WHERE count < ALL(\n",
    "    SELECT count FROM products WHERE category_id = 9)\n",
    "AND category_id = 3\n",
    "ORDER BY name;\n",
    "```"
   ]
  },
  {
   "cell_type": "markdown",
   "id": "226474ff",
   "metadata": {},
   "source": [
    "# 10.3 Ключевое слово EXISTS"
   ]
  },
  {
   "cell_type": "markdown",
   "id": "c1125d21",
   "metadata": {},
   "source": [
    "Выведите id и названия категорий, в которых есть товары.\n",
    "Данные отсортируйте по имени категории.\n",
    "\n",
    "Используйте конструкцию EXISTS.\n",
    "\n",
    "**Решение:**\n",
    "\n",
    "```MySQL\n",
    "SELECT*FROM categories\n",
    "WHERE EXISTS (\n",
    "    SELECT * FROM products\n",
    "    WHERE categories.id=products.category AND products.count>0)\n",
    "ORDER BY name;\n",
    "\n",
    "```"
   ]
  },
  {
   "cell_type": "markdown",
   "id": "fdbce416",
   "metadata": {},
   "source": [
    "Таблицы users и roles связаны отношением многие ко многим через таблицу users_roles.\n",
    "\n",
    "Получите список всех сотрудников, которые не выполняют ни одной роли.\n",
    "Выведите id, имена и фамилии таких сотрудников. Данные отсортируйте по id.\n",
    "Используйте вложенные запросы.\n",
    "\n",
    "**Решение:**\n",
    "\n",
    "```MySQL\n",
    "SELECT id, first_name, last_name\n",
    "FROM users\n",
    "WHERE NOT EXISTS (\n",
    "    SELECT id FROM users_roles WHERE users.id = users_roles.user_id\n",
    "    )\n",
    "ORDER BY id;\n",
    "\n",
    "```"
   ]
  },
  {
   "cell_type": "markdown",
   "id": "0139dff2",
   "metadata": {},
   "source": [
    "База данных музыкального сайта состоит из 4 таблиц: genres, artists, albums и songs.\n",
    "Получите все песни за 2008 год.\n",
    "Выведите название песни (name) и номер альбома (album_id).\n",
    "Данные отсортируйте по названию композиции.\n",
    "\n",
    "**Решение:**\n",
    "\n",
    "```MySQL\n",
    "SELECT name, album_id\n",
    "FROM songs\n",
    "WHERE EXISTS (\n",
    "    SELECT * FROM albums WHERE year = 2008 AND songs.album_id = id\n",
    ")\n",
    "ORDER BY name;\n",
    "\n",
    "```"
   ]
  },
  {
   "cell_type": "markdown",
   "id": "16cafc93",
   "metadata": {},
   "source": [
    "# 10.4 Запросы, возвращающие несколько столбцов"
   ]
  },
  {
   "cell_type": "markdown",
   "id": "f9b7cec5",
   "metadata": {},
   "source": [
    "В таблице products хранятся товары с текущими ценами, а в old_prices — старые цены на эти же товары. Если товар добавили недавно, то в old_prices данных о нем нет.\n",
    "\n",
    "Получите из таблицы products id, название и текущую стоимость товаров, цены которых были изменены. Данные отсортируйте по id.\n",
    "\n",
    "**Решение:**\n",
    "\n",
    "```MySQL\n",
    "SELECT products.id, products.name, products.price \n",
    "FROM products\n",
    "JOIN old_prices ON products.id = old_prices.product_id\n",
    "WHERE (products.id, products.price) NOT IN (\n",
    "    SELECT product_id, price FROM old_prices); \n",
    "\n",
    "```"
   ]
  },
  {
   "cell_type": "markdown",
   "id": "ba505c40",
   "metadata": {},
   "source": [
    "В таблице people содержится список всех людей, а в suspects — подозреваемых.\n",
    "Получите из people всех подозреваемых основываясь на данных из таблицы suspects.\n",
    "\n",
    "Данные должны быть отсортированы по id.\n",
    "\n",
    "**Решение:**\n",
    "\n",
    "```MySQL\n",
    "SELECT * FROM people\n",
    "WHERE (first_name, last_name, age) IN (\n",
    "    SELECT * FROM suspects \n",
    "    );\n",
    "\n",
    "```"
   ]
  },
  {
   "cell_type": "markdown",
   "id": "56363f9e",
   "metadata": {},
   "source": [
    "В таблицах first_names и last_names хранятся все разрешенные в системе имена и фамилии, а в таблице people — все зарегистрированные пользователи.\n",
    "\n",
    "Получите из people всех людей, у которых неверные имена или фамилии.\n",
    "Выведите id, имя и фамилию. Данные отсортируйте по фамилии.\n",
    "\n",
    "**Решение:**\n",
    "\n",
    "```MySQL\n",
    "SELECT id, first_name, last_name\n",
    "FROM people\n",
    "WHERE (first_name, last_name) NOT IN (\n",
    "    SELECT first_name, last_name FROM first_names, last_names\n",
    "    )\n",
    "ORDER BY last_name;\n",
    "\n",
    "```"
   ]
  },
  {
   "cell_type": "markdown",
   "id": "f39ecf82",
   "metadata": {},
   "source": [
    "# 10.5 Подзапросы в конструкции FROM"
   ]
  },
  {
   "cell_type": "markdown",
   "id": "51273a50",
   "metadata": {},
   "source": [
    "На главной странице сайта выводится ТОП5 компьютерных игр. Чтобы вывод был разнообразным:\n",
    "\n",
    "1. Берут по две самых популярных игры из 5 категорий.\n",
    "2. Из полученной десятки оставляют пять лучших игр.\n",
    "3. Итоговую пятерку сортируют по рейтингу в прямом порядке.\n",
    "\n",
    "Строки с одинаковым рейтингом отсортируйте по id.\n",
    "\n",
    "Получите из таблицы games данные для вывода на главную страницу сайта для категорий: 1 - Action, 2 - RPG, 3 - Adventure, 4 - Strategy и 5 - Shooter. Выведите поля id, name, rating и genre, где genre — название категории.\n",
    "\n",
    "**Решение:**\n",
    "\n",
    "```MySQL\n",
    "SELECT id, name, rating, genre\n",
    "FROM (\n",
    "     (SELECT *,'Action' AS genre FROM games WHERE category_id = 1 ORDER BY rating DESC LIMIT 2)\n",
    "UNION\n",
    "     (SELECT *,'RPG' AS genre  FROM games WHERE category_id = 2 ORDER BY rating DESC LIMIT 2)\n",
    "UNION\n",
    "     (SELECT *,'Adventure' AS genre  FROM games WHERE category_id = 3 ORDER BY rating DESC LIMIT 2)\n",
    "UNION\n",
    "     (SELECT *,'Strategy' AS genre  FROM games WHERE category_id = 4 ORDER BY rating DESC LIMIT 2)\n",
    "UNION\n",
    "     (SELECT *,'Shooter' AS genre  FROM games WHERE category_id = 5 ORDER BY rating DESC LIMIT 2)\n",
    "ORDER BY rating DESC LIMIT 5\n",
    "     ) AS bg\n",
    "ORDER BY rating, id;\n",
    "```"
   ]
  },
  {
   "cell_type": "markdown",
   "id": "b2435548",
   "metadata": {},
   "source": [
    "Для хранения транзакций в базе данных используется 3 таблицы: bank_transactions, cashbox_transactions и paypal_transactions.\n",
    "\n",
    "Выведите дату (колонка date), сумму и тип последних трех транзакций.\n",
    "Итоговые данные отсортируйте по дате в хронологическом порядке.\n",
    "В качестве типа используйте bank, cash и paypal в зависимости от таблицы.\n",
    "Тип выведите в поле payment_type.\n",
    "\n",
    "**Решение:**\n",
    "\n",
    "```MySQL\n",
    "SELECT * FROM (\n",
    "    SELECT date, amount, payment_type FROM (\n",
    "        (SELECT *, 'bank' as payment_type FROM bank_transactions)\n",
    "        UNION\n",
    "        (SELECT *, 'cash' FROM cashbox_transactions)\n",
    "        UNION\n",
    "        (SELECT *, 'paypal' FROM paypal_transactions)\n",
    "    ) as all_transactions_DESC\n",
    "    ORDER BY date DESC\n",
    "    LIMIT 3) as all_transactions\n",
    "ORDER BY date;\n",
    "```"
   ]
  },
  {
   "cell_type": "markdown",
   "id": "7827ea2f",
   "metadata": {},
   "source": [
    "В таблицах first_names и last_names хранятся все доступные в системе имена и фамилии. Получите все возможные комбинации фамилий и имен. Фамилии мужского пола могут сочетаться только с мужскими именами, тоже касается и женских фамилий и имен.\n",
    "\n",
    "В итоговой таблице выведите фамилии, имена и пол. Данные отсортируйте сперва по полу, а затем по фамилии и имени.\n",
    "\n",
    "**Решение:**\n",
    "\n",
    "```MySQL\n",
    "SELECT l.last_name, f.first_name, f.sex\n",
    "FROM first_names AS f\n",
    "JOIN last_names AS l ON f.sex = l.sex\n",
    "ORDER BY sex,last_name,first_name;\n",
    "```"
   ]
  },
  {
   "cell_type": "markdown",
   "id": "49cf5a61",
   "metadata": {},
   "source": [
    "# 10.6 Подзапросы в конструкции INSERT"
   ]
  },
  {
   "cell_type": "markdown",
   "id": "a62d8667",
   "metadata": {},
   "source": [
    "В базе данных есть две таблицы для хранения объявлений: advs и closed_advs, в первой хранятся все объявления, а во второй только неактивные.\n",
    "\n",
    "Раз в день объявления из таблицы advs копируются в closed_advs — некоторые объявления уже скопированы.\n",
    "Скопируйте оставшиеся объявления в таблицу closed_advs.\n",
    "\n",
    "**Решение:**\n",
    "\n",
    "```MySQL\n",
    "INSERT IGNORE INTO closed_advs (\n",
    "    SELECT id, user_id, category_id, text, date FROM advs\n",
    "    WHERE closed = 1);\n",
    "```"
   ]
  },
  {
   "cell_type": "markdown",
   "id": "11e4c832",
   "metadata": {},
   "source": [
    "База данных автосалона содержит 4 таблицы: marks, models, cars и cached_cars.\n",
    "В marks и models хранятся данные о марках и моделях автомобилей, а в cars сами автомобили.\n",
    "\n",
    "Для ускорения доступа к данным в базу добавили промежуточную таблицу cached_cars, которая хранит уже готовые строки в виде «марка модель, цвет», а также текущую цену автомобиля.\n",
    "\n",
    "Заполните таблицу cached_cars свежими данными. Обратите внимание, что некоторые данные в таблице cached_cars уже устарели и их нужно обновить.\n",
    "\n",
    "**Решение:**\n",
    "\n",
    "```MySQL\n",
    "REPLACE INTO cached_cars (SELECT\n",
    "    cars.id as id,\n",
    "    CONCAT(marks.name,\" \",models.name,', ',cars.color) AS car,\n",
    "    cars.price as price\n",
    "FROM \n",
    "    cars\n",
    "JOIN models ON models.id = cars.model_id\n",
    "JOIN marks ON marks.id = models.mark_id);\n",
    "```"
   ]
  },
  {
   "cell_type": "markdown",
   "id": "4b9bfdda",
   "metadata": {},
   "source": [
    "База данных автосалона содержит 4 таблицы: marks, models, cars и cached_cars.\n",
    "В marks и models хранятся данные о марках и моделях автомобилей, а в cars сами автомобили.\n",
    "\n",
    "Для ускорения доступа к данным в базу добавили промежуточную таблицу cached_cars, которая хранит уже готовые строки в виде «марка модель, цвет», а также текущую цену автомобиля.\n",
    "\n",
    "Заполните таблицу cached_cars свежими данными. Обратите внимание, что некоторые данные в таблице cached_cars уже устарели и их нужно обновить.\n",
    "\n",
    "**Решение:**\n",
    "\n",
    "```MySQL\n",
    "REPLACE INTO cached_cars (SELECT\n",
    "    cars.id as id,\n",
    "    CONCAT(marks.name,\" \",models.name,', ',cars.color) AS car,\n",
    "    cars.price as price\n",
    "FROM \n",
    "    cars\n",
    "JOIN models ON models.id = cars.model_id\n",
    "JOIN marks ON marks.id = models.mark_id);\n",
    "```"
   ]
  },
  {
   "cell_type": "markdown",
   "id": "4222dd00",
   "metadata": {},
   "source": [
    "# THE END"
   ]
  },
  {
   "cell_type": "code",
   "execution_count": null,
   "id": "fc079956",
   "metadata": {},
   "outputs": [],
   "source": [
    "\n"
   ]
  }
 ],
 "metadata": {
  "kernelspec": {
   "display_name": "Python 3",
   "language": "python",
   "name": "python3"
  },
  "language_info": {
   "codemirror_mode": {
    "name": "ipython",
    "version": 3
   },
   "file_extension": ".py",
   "mimetype": "text/x-python",
   "name": "python",
   "nbconvert_exporter": "python",
   "pygments_lexer": "ipython3",
   "version": "3.6.8"
  }
 },
 "nbformat": 4,
 "nbformat_minor": 5
}
